{
  "nbformat": 4,
  "nbformat_minor": 0,
  "metadata": {
    "colab": {
      "name": "Untitled1.ipynb",
      "provenance": [],
      "authorship_tag": "ABX9TyMrlR2tIheklNIFCWfXINyK",
      "include_colab_link": true
    },
    "kernelspec": {
      "name": "python3",
      "display_name": "Python 3"
    }
  },
  "cells": [
    {
      "cell_type": "markdown",
      "metadata": {
        "id": "view-in-github",
        "colab_type": "text"
      },
      "source": [
        "<a href=\"https://colab.research.google.com/github/ShanchuanGuo/studycolab/blob/main/svm_decision_boundary.ipynb\" target=\"_parent\"><img src=\"https://colab.research.google.com/assets/colab-badge.svg\" alt=\"Open In Colab\"/></a>"
      ]
    },
    {
      "cell_type": "code",
      "metadata": {
        "id": "UFrTBJb2Zxs7"
      },
      "source": [
        "from sklearn import svm"
      ],
      "execution_count": 1,
      "outputs": []
    },
    {
      "cell_type": "code",
      "metadata": {
        "id": "kUf8Wd-BZ3wQ"
      },
      "source": [
        "import numpy as np"
      ],
      "execution_count": 2,
      "outputs": []
    },
    {
      "cell_type": "code",
      "metadata": {
        "id": "-4oMyhwsZ5r9"
      },
      "source": [
        "clf = svm.SVC(kernel=\"linear\", C=10)"
      ],
      "execution_count": 3,
      "outputs": []
    },
    {
      "cell_type": "code",
      "metadata": {
        "colab": {
          "base_uri": "https://localhost:8080/"
        },
        "id": "yJ8zjXegeT6j",
        "outputId": "aafa8401-440f-4a88-dda9-f5e84ab71fd8"
      },
      "source": [
        "!git clone https://github.com/ShanchuanGuo/studycolab.git"
      ],
      "execution_count": 14,
      "outputs": [
        {
          "output_type": "stream",
          "text": [
            "Cloning into 'studycolab'...\n",
            "remote: Enumerating objects: 11, done.\u001b[K\n",
            "remote: Counting objects: 100% (11/11), done.\u001b[K\n",
            "remote: Compressing objects: 100% (9/9), done.\u001b[K\n",
            "remote: Total 11 (delta 1), reused 0 (delta 0), pack-reused 0\u001b[K\n",
            "Unpacking objects: 100% (11/11), done.\n"
          ],
          "name": "stdout"
        }
      ]
    },
    {
      "cell_type": "code",
      "metadata": {
        "colab": {
          "base_uri": "https://localhost:8080/"
        },
        "id": "5FfD-eVIeuh5",
        "outputId": "cf52f082-c99f-4799-a4bd-fed396cf5028"
      },
      "source": [
        "!ls -R"
      ],
      "execution_count": 15,
      "outputs": [
        {
          "output_type": "stream",
          "text": [
            ".:\n",
            "1  sample_data\tstudycolab\n",
            "\n",
            "./1:\n",
            "\n",
            "./sample_data:\n",
            "anscombe.json\t\t      mnist_test.csv\n",
            "california_housing_test.csv   mnist_train_small.csv\n",
            "california_housing_train.csv  README.md\n",
            "\n",
            "./studycolab:\n",
            "Xtraining.csv  Ytraining.csv\n"
          ],
          "name": "stdout"
        }
      ]
    },
    {
      "cell_type": "code",
      "metadata": {
        "id": "3fPCUaTJe0v9"
      },
      "source": [
        "import pandas as pd"
      ],
      "execution_count": 16,
      "outputs": []
    },
    {
      "cell_type": "code",
      "metadata": {
        "colab": {
          "base_uri": "https://localhost:8080/",
          "height": 419
        },
        "id": "SLGdsphKe7t-",
        "outputId": "56d82ac6-466a-4abe-fd85-90ba53b99791"
      },
      "source": [
        "pd.read_csv('./studycolab/Xtraining.csv')"
      ],
      "execution_count": 17,
      "outputs": [
        {
          "output_type": "execute_result",
          "data": {
            "text/html": [
              "<div>\n",
              "<style scoped>\n",
              "    .dataframe tbody tr th:only-of-type {\n",
              "        vertical-align: middle;\n",
              "    }\n",
              "\n",
              "    .dataframe tbody tr th {\n",
              "        vertical-align: top;\n",
              "    }\n",
              "\n",
              "    .dataframe thead th {\n",
              "        text-align: right;\n",
              "    }\n",
              "</style>\n",
              "<table border=\"1\" class=\"dataframe\">\n",
              "  <thead>\n",
              "    <tr style=\"text-align: right;\">\n",
              "      <th></th>\n",
              "      <th>10.17211637</th>\n",
              "      <th>-8.036664</th>\n",
              "    </tr>\n",
              "  </thead>\n",
              "  <tbody>\n",
              "    <tr>\n",
              "      <th>0</th>\n",
              "      <td>10.172116</td>\n",
              "      <td>-8.036664</td>\n",
              "    </tr>\n",
              "    <tr>\n",
              "      <th>1</th>\n",
              "      <td>10.172116</td>\n",
              "      <td>-8.036664</td>\n",
              "    </tr>\n",
              "    <tr>\n",
              "      <th>2</th>\n",
              "      <td>10.172116</td>\n",
              "      <td>-8.036664</td>\n",
              "    </tr>\n",
              "    <tr>\n",
              "      <th>3</th>\n",
              "      <td>10.172116</td>\n",
              "      <td>-8.036664</td>\n",
              "    </tr>\n",
              "    <tr>\n",
              "      <th>4</th>\n",
              "      <td>10.172116</td>\n",
              "      <td>-8.036664</td>\n",
              "    </tr>\n",
              "    <tr>\n",
              "      <th>...</th>\n",
              "      <td>...</td>\n",
              "      <td>...</td>\n",
              "    </tr>\n",
              "    <tr>\n",
              "      <th>31994</th>\n",
              "      <td>4.052250</td>\n",
              "      <td>3.949584</td>\n",
              "    </tr>\n",
              "    <tr>\n",
              "      <th>31995</th>\n",
              "      <td>4.052250</td>\n",
              "      <td>3.949584</td>\n",
              "    </tr>\n",
              "    <tr>\n",
              "      <th>31996</th>\n",
              "      <td>4.052250</td>\n",
              "      <td>3.949584</td>\n",
              "    </tr>\n",
              "    <tr>\n",
              "      <th>31997</th>\n",
              "      <td>4.052250</td>\n",
              "      <td>3.949584</td>\n",
              "    </tr>\n",
              "    <tr>\n",
              "      <th>31998</th>\n",
              "      <td>4.052250</td>\n",
              "      <td>3.949584</td>\n",
              "    </tr>\n",
              "  </tbody>\n",
              "</table>\n",
              "<p>31999 rows × 2 columns</p>\n",
              "</div>"
            ],
            "text/plain": [
              "       10.17211637   -8.036664\n",
              "0        10.172116   -8.036664\n",
              "1        10.172116   -8.036664\n",
              "2        10.172116   -8.036664\n",
              "3        10.172116   -8.036664\n",
              "4        10.172116   -8.036664\n",
              "...            ...         ...\n",
              "31994     4.052250    3.949584\n",
              "31995     4.052250    3.949584\n",
              "31996     4.052250    3.949584\n",
              "31997     4.052250    3.949584\n",
              "31998     4.052250    3.949584\n",
              "\n",
              "[31999 rows x 2 columns]"
            ]
          },
          "metadata": {
            "tags": []
          },
          "execution_count": 17
        }
      ]
    },
    {
      "cell_type": "code",
      "metadata": {
        "id": "yxjxjzrbhhnk"
      },
      "source": [
        "X = pd.read_csv('./studycolab/Xtraining.csv')"
      ],
      "execution_count": 19,
      "outputs": []
    },
    {
      "cell_type": "code",
      "metadata": {
        "colab": {
          "base_uri": "https://localhost:8080/"
        },
        "id": "tcR3-nmFi63N",
        "outputId": "9212672b-bbf8-49eb-f15c-7cee16480166"
      },
      "source": [
        "print(X)"
      ],
      "execution_count": 20,
      "outputs": [
        {
          "output_type": "stream",
          "text": [
            "       10.17211637   -8.036664\n",
            "0        10.172116   -8.036664\n",
            "1        10.172116   -8.036664\n",
            "2        10.172116   -8.036664\n",
            "3        10.172116   -8.036664\n",
            "4        10.172116   -8.036664\n",
            "...            ...         ...\n",
            "31994     4.052250    3.949584\n",
            "31995     4.052250    3.949584\n",
            "31996     4.052250    3.949584\n",
            "31997     4.052250    3.949584\n",
            "31998     4.052250    3.949584\n",
            "\n",
            "[31999 rows x 2 columns]\n"
          ],
          "name": "stdout"
        }
      ]
    },
    {
      "cell_type": "code",
      "metadata": {
        "id": "Ej8imztui-cs"
      },
      "source": [
        "y = pd.read_csv('./studycolab/Ytraining.csv')"
      ],
      "execution_count": 21,
      "outputs": []
    },
    {
      "cell_type": "code",
      "metadata": {
        "colab": {
          "base_uri": "https://localhost:8080/"
        },
        "id": "uiAggJeMjRif",
        "outputId": "5735c15d-5dde-4718-e3d4-95cb33afec73"
      },
      "source": [
        "print(y)"
      ],
      "execution_count": 23,
      "outputs": [
        {
          "output_type": "stream",
          "text": [
            "       0\n",
            "0      0\n",
            "1      0\n",
            "2      0\n",
            "3      0\n",
            "4      0\n",
            "...   ..\n",
            "31994  1\n",
            "31995  1\n",
            "31996  1\n",
            "31997  1\n",
            "31998  1\n",
            "\n",
            "[31999 rows x 1 columns]\n"
          ],
          "name": "stdout"
        }
      ]
    },
    {
      "cell_type": "code",
      "metadata": {
        "colab": {
          "base_uri": "https://localhost:8080/"
        },
        "id": "jKn3LGxmjFb7",
        "outputId": "bf8aa14e-418d-4a34-8efc-258d890f0cd3"
      },
      "source": [
        "clf.fit(X, y.values.ravel())"
      ],
      "execution_count": 25,
      "outputs": [
        {
          "output_type": "execute_result",
          "data": {
            "text/plain": [
              "SVC(C=10, break_ties=False, cache_size=200, class_weight=None, coef0=0.0,\n",
              "    decision_function_shape='ovr', degree=3, gamma='scale', kernel='linear',\n",
              "    max_iter=-1, probability=False, random_state=None, shrinking=True,\n",
              "    tol=0.001, verbose=False)"
            ]
          },
          "metadata": {
            "tags": []
          },
          "execution_count": 25
        }
      ]
    },
    {
      "cell_type": "code",
      "metadata": {
        "colab": {
          "base_uri": "https://localhost:8080/"
        },
        "id": "NXZ8Tz0ZkKZT",
        "outputId": "7ab431a8-a142-4805-e0db-c298bb985cac"
      },
      "source": [
        "for (intercept, coef) in zip(clf.intercept_, clf.coef_):\r\n",
        "    s = \"y = {0:.3f}\".format(intercept)\r\n",
        "    for (i, c) in enumerate(coef):\r\n",
        "        s += \" + {0:.3f} * x{1}\".format(c, i)\r\n",
        "\r\n",
        "    print(s)"
      ],
      "execution_count": 26,
      "outputs": [
        {
          "output_type": "stream",
          "text": [
            "y = 7.138 + -0.710 * x0 + 0.114 * x1\n"
          ],
          "name": "stdout"
        }
      ]
    }
  ]
}